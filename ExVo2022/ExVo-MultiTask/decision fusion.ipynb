{
 "cells": [
  {
   "cell_type": "code",
   "execution_count": 75,
   "metadata": {
    "collapsed": true,
    "pycharm": {
     "name": "#%%\n"
    }
   },
   "outputs": [
    {
     "name": "stdout",
     "output_type": "stream",
     "text": [
      "     0       1       2       3       4       5       6       7       8       9       10\n",
      " 0.4941  0.4998  0.5045  0.5082  0.5109  0.5125  0.5130  0.5124  0.5108  0.5081  0.5044\n",
      " 0.4802  0.4863  0.4912  0.4950  0.4975  0.4986  0.4985  0.4971  0.4944  0.4906  0.4856\n",
      "0.6000000000000001 0.513 0.4986\n"
     ]
    }
   ],
   "source": [
    "import os\n",
    "\n",
    "import pandas as pd\n",
    "from Dani_scripts.ELM_pipeline import scoring\n",
    "import numpy as np\n",
    "\n",
    "def make_alpha_df(high_alpha, low_alpha):\n",
    "    pred_probs_emo_1 = pd.read_csv(os.path.join(high_alpha, \"best_preds_emo.csv\")).to_numpy()\n",
    "    pred_probs_aro_val_1 = pd.read_csv(os.path.join(high_alpha, \"best_preds_aro_val.csv\")).to_numpy()\n",
    "    pred_probs_emo_2 = pd.read_csv(os.path.join(low_alpha, \"best_preds_emo.csv\")).to_numpy()\n",
    "    pred_probs_aro_val_2 = pd.read_csv(os.path.join(low_alpha, \"best_preds_aro_val.csv\")).to_numpy()\n",
    "    alpha_df = pd.DataFrame(columns=['alpha', 'mean_ccc_emo', 'mean_ccc_aroval'])\n",
    "    for alpha in np.arange(0.0, 1.1, 0.1):\n",
    "        pred_probs_emo = alpha * pred_probs_emo_1 + (1 - alpha) * pred_probs_emo_2\n",
    "        pred_probs_aro_val = alpha * pred_probs_aro_val_1 + (1 - alpha) * pred_probs_aro_val_2\n",
    "        ccc_emo, _ = scoring(\"ELM\", y_test_emo, pred_probs_emo)\n",
    "        ccc_aroval, _ = scoring(\"ELM\", y_test_aroval, pred_probs_aro_val)\n",
    "        mean_ccc_emo = np.round(np.mean(ccc_emo), 4)\n",
    "        mean_ccc_aroval = np.round(np.mean(ccc_aroval), 4)\n",
    "        alpha_df.loc[len(alpha_df)] = [alpha, mean_ccc_emo, mean_ccc_aroval]\n",
    "    return alpha_df\n",
    "\n",
    "y_test_emo = pd.read_csv(r\"Dani_scripts/data/labels_csv/high_info.csv\")\n",
    "y_test_aroval = pd.read_csv(r\"Dani_scripts/data/labels_csv/two_info.csv\")\n",
    "y_test_emo = y_test_emo[y_test_emo['Split'] == 'Val'].sort_values(by='File_ID').reset_index(drop=True).drop([\"File_ID\", \"Split\"], axis=1).to_numpy()\n",
    "y_test_aroval = y_test_aroval[y_test_aroval['Split'] == 'Val'].sort_values(by='File_ID').reset_index(drop=True).drop([\"File_ID\", \"Split\"], axis=1).to_numpy()\n",
    "\n",
    "high_alpha = os.path.join(\"results\", \"exp_batch11_compare_funcs_nonlinearkernels\")\n",
    "low_alpha = os.path.join(\"results\", \"exp_batch20_words_compare_llds_130pca_200gmm_fv_plus_compare_funcs_nonlinearkernels\")\n",
    "\n",
    "alpha_df = make_alpha_df(high_alpha, low_alpha)\n",
    "best_CCC_emo = alpha_df.sort_values(by='mean_ccc_emo', ascending=False).iloc[0]['mean_ccc_emo']\n",
    "best_CCC_aroval = alpha_df.sort_values(by='mean_ccc_aroval', ascending=False).iloc[0]['mean_ccc_aroval']\n",
    "best_alpha = alpha_df[alpha_df['mean_ccc_emo'] == best_CCC_emo].iloc[0]['alpha']\n",
    "# best_preds = best_alpha * pred_probs_1 + (1 - best_alpha) * pred_probs_2\n",
    "\n",
    "print(alpha_df[['mean_ccc_emo', 'mean_ccc_aroval']].transpose().to_string(index=False))\n",
    "print(best_alpha, best_CCC_emo, best_CCC_aroval)"
   ]
  },
  {
   "cell_type": "code",
   "execution_count": 55,
   "outputs": [
    {
     "data": {
      "text/plain": "         Awe  Excitement  Amusement  Awkwardness   Fear  Horror  Distress  \\\n0      False       False      False        False  False   False     False   \n1      False       False      False        False  False   False     False   \n2      False       False      False        False  False   False     False   \n3      False       False      False        False  False   False     False   \n4      False       False      False        False  False   False     False   \n...      ...         ...        ...          ...    ...     ...       ...   \n19391  False       False      False        False  False   False     False   \n19392  False       False      False        False  False   False     False   \n19393  False       False      False        False  False   False     False   \n19394  False       False      False        False  False   False     False   \n19395  False       False      False        False  False   False     False   \n\n       Triumph  Sadness  Surprise  \n0        False    False     False  \n1        False    False     False  \n2        False    False     False  \n3        False    False     False  \n4        False    False     False  \n...        ...      ...       ...  \n19391    False    False     False  \n19392    False    False     False  \n19393    False    False     False  \n19394    False    False     False  \n19395    False    False     False  \n\n[19396 rows x 10 columns]",
      "text/html": "<div>\n<style scoped>\n    .dataframe tbody tr th:only-of-type {\n        vertical-align: middle;\n    }\n\n    .dataframe tbody tr th {\n        vertical-align: top;\n    }\n\n    .dataframe thead th {\n        text-align: right;\n    }\n</style>\n<table border=\"1\" class=\"dataframe\">\n  <thead>\n    <tr style=\"text-align: right;\">\n      <th></th>\n      <th>Awe</th>\n      <th>Excitement</th>\n      <th>Amusement</th>\n      <th>Awkwardness</th>\n      <th>Fear</th>\n      <th>Horror</th>\n      <th>Distress</th>\n      <th>Triumph</th>\n      <th>Sadness</th>\n      <th>Surprise</th>\n    </tr>\n  </thead>\n  <tbody>\n    <tr>\n      <th>0</th>\n      <td>False</td>\n      <td>False</td>\n      <td>False</td>\n      <td>False</td>\n      <td>False</td>\n      <td>False</td>\n      <td>False</td>\n      <td>False</td>\n      <td>False</td>\n      <td>False</td>\n    </tr>\n    <tr>\n      <th>1</th>\n      <td>False</td>\n      <td>False</td>\n      <td>False</td>\n      <td>False</td>\n      <td>False</td>\n      <td>False</td>\n      <td>False</td>\n      <td>False</td>\n      <td>False</td>\n      <td>False</td>\n    </tr>\n    <tr>\n      <th>2</th>\n      <td>False</td>\n      <td>False</td>\n      <td>False</td>\n      <td>False</td>\n      <td>False</td>\n      <td>False</td>\n      <td>False</td>\n      <td>False</td>\n      <td>False</td>\n      <td>False</td>\n    </tr>\n    <tr>\n      <th>3</th>\n      <td>False</td>\n      <td>False</td>\n      <td>False</td>\n      <td>False</td>\n      <td>False</td>\n      <td>False</td>\n      <td>False</td>\n      <td>False</td>\n      <td>False</td>\n      <td>False</td>\n    </tr>\n    <tr>\n      <th>4</th>\n      <td>False</td>\n      <td>False</td>\n      <td>False</td>\n      <td>False</td>\n      <td>False</td>\n      <td>False</td>\n      <td>False</td>\n      <td>False</td>\n      <td>False</td>\n      <td>False</td>\n    </tr>\n    <tr>\n      <th>...</th>\n      <td>...</td>\n      <td>...</td>\n      <td>...</td>\n      <td>...</td>\n      <td>...</td>\n      <td>...</td>\n      <td>...</td>\n      <td>...</td>\n      <td>...</td>\n      <td>...</td>\n    </tr>\n    <tr>\n      <th>19391</th>\n      <td>False</td>\n      <td>False</td>\n      <td>False</td>\n      <td>False</td>\n      <td>False</td>\n      <td>False</td>\n      <td>False</td>\n      <td>False</td>\n      <td>False</td>\n      <td>False</td>\n    </tr>\n    <tr>\n      <th>19392</th>\n      <td>False</td>\n      <td>False</td>\n      <td>False</td>\n      <td>False</td>\n      <td>False</td>\n      <td>False</td>\n      <td>False</td>\n      <td>False</td>\n      <td>False</td>\n      <td>False</td>\n    </tr>\n    <tr>\n      <th>19393</th>\n      <td>False</td>\n      <td>False</td>\n      <td>False</td>\n      <td>False</td>\n      <td>False</td>\n      <td>False</td>\n      <td>False</td>\n      <td>False</td>\n      <td>False</td>\n      <td>False</td>\n    </tr>\n    <tr>\n      <th>19394</th>\n      <td>False</td>\n      <td>False</td>\n      <td>False</td>\n      <td>False</td>\n      <td>False</td>\n      <td>False</td>\n      <td>False</td>\n      <td>False</td>\n      <td>False</td>\n      <td>False</td>\n    </tr>\n    <tr>\n      <th>19395</th>\n      <td>False</td>\n      <td>False</td>\n      <td>False</td>\n      <td>False</td>\n      <td>False</td>\n      <td>False</td>\n      <td>False</td>\n      <td>False</td>\n      <td>False</td>\n      <td>False</td>\n    </tr>\n  </tbody>\n</table>\n<p>19396 rows × 10 columns</p>\n</div>"
     },
     "execution_count": 55,
     "metadata": {},
     "output_type": "execute_result"
    }
   ],
   "source": [],
   "metadata": {
    "collapsed": false,
    "pycharm": {
     "name": "#%%\n"
    }
   }
  }
 ],
 "metadata": {
  "kernelspec": {
   "display_name": "Python 3",
   "language": "python",
   "name": "python3"
  },
  "language_info": {
   "codemirror_mode": {
    "name": "ipython",
    "version": 2
   },
   "file_extension": ".py",
   "mimetype": "text/x-python",
   "name": "python",
   "nbconvert_exporter": "python",
   "pygments_lexer": "ipython2",
   "version": "2.7.6"
  }
 },
 "nbformat": 4,
 "nbformat_minor": 0
}