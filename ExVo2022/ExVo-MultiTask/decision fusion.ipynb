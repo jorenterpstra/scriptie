{
 "cells": [
  {
   "cell_type": "code",
   "execution_count": 39,
   "metadata": {
    "collapsed": true,
    "pycharm": {
     "name": "#%%\n"
    }
   },
   "outputs": [
    {
     "name": "stdout",
     "output_type": "stream",
     "text": [
      " 0.4964\n",
      " 0.5016\n",
      " 0.5058\n",
      " 0.5091\n",
      " 0.5115\n",
      " 0.5128\n",
      " 0.5131\n",
      " 0.5124\n",
      " 0.5107\n",
      " 0.5080\n",
      " 0.5044\n",
      "0.6000000000000001 0.5131\n"
     ]
    }
   ],
   "source": [
    "import pandas as pd\n",
    "from Dani_scripts.ELM_pipeline import scoring\n",
    "import numpy as np\n",
    "\n",
    "y_test_emo = pd.read_csv(r\"Dani_scripts/data/labels_csv/high_info.csv\")\n",
    "y_test_aroval = pd.read_csv(r\"Dani_scripts/data/labels_csv/two_info.csv\")\n",
    "y_test_emo = y_test_emo[y_test_emo['Split'] == 'Val'].sort_values(by='File_ID').reset_index(drop=True).drop([\"File_ID\", \"Split\"], axis=1).to_numpy()\n",
    "y_test_aroval = y_test_aroval[y_test_aroval['Split'] == 'Val'].sort_values(by='File_ID').reset_index(drop=True).drop([\"File_ID\", \"Split\"], axis=1).to_numpy()\n",
    "\n",
    "\n",
    "pred_probs_1 = pd.read_csv(r\"results/exp_batch11_compare_funcs_nonlinearkernels/best_preds_emo.csv\").to_numpy()\n",
    "pred_probs_2 = pd.read_csv(r\"results/exp_batch12_words_compare_llds_130pca_128gmm_fv_plus_compare_funcs_nonlinearkernels/best_preds_emo.csv\").to_numpy()\n",
    "alpha_df = pd.DataFrame(columns=['alpha', 'mean_ccc'])\n",
    "for alpha in np.arange(0.0, 1.1, 0.1):\n",
    "    pred_probs = alpha * pred_probs_1 + (1 - alpha) * pred_probs_2\n",
    "    ccc, _ = scoring(\"ELM\", y_test_emo, pred_probs)\n",
    "    mean_ccc = np.round(np.mean(ccc), 4)\n",
    "    alpha_df.loc[len(alpha_df)] = [alpha, mean_ccc]\n",
    "\n",
    "best_alpha = alpha_df.sort_values(by='mean_ccc', ascending=False).iloc[0]['alpha']\n",
    "best_CCC = alpha_df.sort_values(by='mean_ccc', ascending=False).iloc[0]['mean_ccc']\n",
    "best_preds = best_alpha * pred_probs_1 + (1 - best_alpha) * pred_probs_2\n",
    "print(alpha_df['mean_ccc'].to_string(index=False))\n",
    "print(best_alpha, best_CCC)\n"
   ]
  }
 ],
 "metadata": {
  "kernelspec": {
   "display_name": "Python 3",
   "language": "python",
   "name": "python3"
  },
  "language_info": {
   "codemirror_mode": {
    "name": "ipython",
    "version": 2
   },
   "file_extension": ".py",
   "mimetype": "text/x-python",
   "name": "python",
   "nbconvert_exporter": "python",
   "pygments_lexer": "ipython2",
   "version": "2.7.6"
  }
 },
 "nbformat": 4,
 "nbformat_minor": 0
}